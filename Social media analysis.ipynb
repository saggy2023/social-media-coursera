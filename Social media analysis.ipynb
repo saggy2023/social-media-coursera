{
 "cells": [
  {
   "cell_type": "markdown",
   "id": "3c50d57f",
   "metadata": {},
   "source": [
    "# <h2 align=\"center\">Social Media Analysis<h2>"
   ]
  },
  {
   "cell_type": "code",
   "execution_count": 1,
   "id": "5b557d5b",
   "metadata": {},
   "outputs": [],
   "source": [
    "import pandas as pd\n",
    "import numpy as np"
   ]
  },
  {
   "cell_type": "markdown",
   "id": "1081fed5",
   "metadata": {},
   "source": [
    "***\n",
    "### 1. Data Import and Data Exploration\n",
    "***"
   ]
  },
  {
   "cell_type": "markdown",
   "id": "c08359f3",
   "metadata": {},
   "source": [
    "### Dataset\n",
    "#### We have a randomized Dataset downloaded from Kaggle\n",
    "#####     -\"SocialMediaUsersDataset.csv\""
   ]
  },
  {
   "cell_type": "code",
   "execution_count": 2,
   "id": "ec00258d",
   "metadata": {},
   "outputs": [
    {
     "data": {
      "text/html": [
       "<div>\n",
       "<style scoped>\n",
       "    .dataframe tbody tr th:only-of-type {\n",
       "        vertical-align: middle;\n",
       "    }\n",
       "\n",
       "    .dataframe tbody tr th {\n",
       "        vertical-align: top;\n",
       "    }\n",
       "\n",
       "    .dataframe thead th {\n",
       "        text-align: right;\n",
       "    }\n",
       "</style>\n",
       "<table border=\"1\" class=\"dataframe\">\n",
       "  <thead>\n",
       "    <tr style=\"text-align: right;\">\n",
       "      <th></th>\n",
       "      <th>UserID</th>\n",
       "      <th>Name</th>\n",
       "      <th>Gender</th>\n",
       "      <th>DOB</th>\n",
       "      <th>Interests</th>\n",
       "      <th>City</th>\n",
       "      <th>Country</th>\n",
       "    </tr>\n",
       "  </thead>\n",
       "  <tbody>\n",
       "    <tr>\n",
       "      <th>0</th>\n",
       "      <td>1</td>\n",
       "      <td>Jesse Lawhorn</td>\n",
       "      <td>Female</td>\n",
       "      <td>1958-10-15</td>\n",
       "      <td>'Movies', 'Fashion', 'Fashion', 'Books'</td>\n",
       "      <td>Sibolga</td>\n",
       "      <td>Indonesia</td>\n",
       "    </tr>\n",
       "    <tr>\n",
       "      <th>1</th>\n",
       "      <td>2</td>\n",
       "      <td>Stacy Payne</td>\n",
       "      <td>Female</td>\n",
       "      <td>2004-07-21</td>\n",
       "      <td>'Gaming', 'Finance and investments', 'Outdoor ...</td>\n",
       "      <td>Al Abyār</td>\n",
       "      <td>Libya</td>\n",
       "    </tr>\n",
       "    <tr>\n",
       "      <th>2</th>\n",
       "      <td>3</td>\n",
       "      <td>Katrina Nicewander</td>\n",
       "      <td>Female</td>\n",
       "      <td>2000-02-07</td>\n",
       "      <td>'DIY and crafts', 'Music', 'Science', 'Fashion'</td>\n",
       "      <td>Wādī as Sīr</td>\n",
       "      <td>Jordan</td>\n",
       "    </tr>\n",
       "    <tr>\n",
       "      <th>3</th>\n",
       "      <td>4</td>\n",
       "      <td>Eric Yarbrough</td>\n",
       "      <td>Male</td>\n",
       "      <td>1985-04-14</td>\n",
       "      <td>'Outdoor activities', 'Cars and automobiles'</td>\n",
       "      <td>Matera</td>\n",
       "      <td>Italy</td>\n",
       "    </tr>\n",
       "    <tr>\n",
       "      <th>4</th>\n",
       "      <td>5</td>\n",
       "      <td>Daniel Adkins</td>\n",
       "      <td>Female</td>\n",
       "      <td>1955-09-18</td>\n",
       "      <td>'Politics', 'History'</td>\n",
       "      <td>Biruaca</td>\n",
       "      <td>Venezuela</td>\n",
       "    </tr>\n",
       "    <tr>\n",
       "      <th>...</th>\n",
       "      <td>...</td>\n",
       "      <td>...</td>\n",
       "      <td>...</td>\n",
       "      <td>...</td>\n",
       "      <td>...</td>\n",
       "      <td>...</td>\n",
       "      <td>...</td>\n",
       "    </tr>\n",
       "    <tr>\n",
       "      <th>99995</th>\n",
       "      <td>99996</td>\n",
       "      <td>Lionel Denault</td>\n",
       "      <td>Female</td>\n",
       "      <td>1983-07-31</td>\n",
       "      <td>'DIY and crafts'</td>\n",
       "      <td>Dawan</td>\n",
       "      <td>China</td>\n",
       "    </tr>\n",
       "    <tr>\n",
       "      <th>99996</th>\n",
       "      <td>99997</td>\n",
       "      <td>Margie Mieszala</td>\n",
       "      <td>Female</td>\n",
       "      <td>1954-05-20</td>\n",
       "      <td>'Cars and automobiles', 'Cooking', 'Outdoor ac...</td>\n",
       "      <td>Arcos de la Frontera</td>\n",
       "      <td>Spain</td>\n",
       "    </tr>\n",
       "    <tr>\n",
       "      <th>99997</th>\n",
       "      <td>99998</td>\n",
       "      <td>Joan Mercedes</td>\n",
       "      <td>Male</td>\n",
       "      <td>1975-06-06</td>\n",
       "      <td>'Business and entrepreneurship', 'Cooking'</td>\n",
       "      <td>Los Andes</td>\n",
       "      <td>Chile</td>\n",
       "    </tr>\n",
       "    <tr>\n",
       "      <th>99998</th>\n",
       "      <td>99999</td>\n",
       "      <td>Marvin Massa</td>\n",
       "      <td>Female</td>\n",
       "      <td>1959-11-16</td>\n",
       "      <td>'Gaming', 'Business and entrepreneurship', 'Fa...</td>\n",
       "      <td>Varjota</td>\n",
       "      <td>Brazil</td>\n",
       "    </tr>\n",
       "    <tr>\n",
       "      <th>99999</th>\n",
       "      <td>100000</td>\n",
       "      <td>Josh Young</td>\n",
       "      <td>Female</td>\n",
       "      <td>1988-07-29</td>\n",
       "      <td>'Politics', 'Pets'</td>\n",
       "      <td>Brzeg</td>\n",
       "      <td>Poland</td>\n",
       "    </tr>\n",
       "  </tbody>\n",
       "</table>\n",
       "<p>100000 rows × 7 columns</p>\n",
       "</div>"
      ],
      "text/plain": [
       "       UserID                Name  Gender         DOB  \\\n",
       "0           1       Jesse Lawhorn  Female  1958-10-15   \n",
       "1           2         Stacy Payne  Female  2004-07-21   \n",
       "2           3  Katrina Nicewander  Female  2000-02-07   \n",
       "3           4      Eric Yarbrough    Male  1985-04-14   \n",
       "4           5       Daniel Adkins  Female  1955-09-18   \n",
       "...       ...                 ...     ...         ...   \n",
       "99995   99996      Lionel Denault  Female  1983-07-31   \n",
       "99996   99997     Margie Mieszala  Female  1954-05-20   \n",
       "99997   99998       Joan Mercedes    Male  1975-06-06   \n",
       "99998   99999        Marvin Massa  Female  1959-11-16   \n",
       "99999  100000          Josh Young  Female  1988-07-29   \n",
       "\n",
       "                                               Interests  \\\n",
       "0                'Movies', 'Fashion', 'Fashion', 'Books'   \n",
       "1      'Gaming', 'Finance and investments', 'Outdoor ...   \n",
       "2        'DIY and crafts', 'Music', 'Science', 'Fashion'   \n",
       "3           'Outdoor activities', 'Cars and automobiles'   \n",
       "4                                  'Politics', 'History'   \n",
       "...                                                  ...   \n",
       "99995                                   'DIY and crafts'   \n",
       "99996  'Cars and automobiles', 'Cooking', 'Outdoor ac...   \n",
       "99997         'Business and entrepreneurship', 'Cooking'   \n",
       "99998  'Gaming', 'Business and entrepreneurship', 'Fa...   \n",
       "99999                                 'Politics', 'Pets'   \n",
       "\n",
       "                       City    Country  \n",
       "0                   Sibolga  Indonesia  \n",
       "1                  Al Abyār      Libya  \n",
       "2               Wādī as Sīr     Jordan  \n",
       "3                    Matera      Italy  \n",
       "4                   Biruaca  Venezuela  \n",
       "...                     ...        ...  \n",
       "99995                 Dawan      China  \n",
       "99996  Arcos de la Frontera      Spain  \n",
       "99997             Los Andes      Chile  \n",
       "99998               Varjota     Brazil  \n",
       "99999                 Brzeg     Poland  \n",
       "\n",
       "[100000 rows x 7 columns]"
      ]
     },
     "execution_count": 2,
     "metadata": {},
     "output_type": "execute_result"
    }
   ],
   "source": [
    "df=pd.read_csv(\"C:/Users/sagar bhanage/Downloads/archive (3)/SocialMediaUsersDataset.csv\")\n",
    "df"
   ]
  },
  {
   "cell_type": "markdown",
   "id": "a8d637cf",
   "metadata": {},
   "source": [
    "***\n",
    "## Exploring Data\n",
    "***"
   ]
  },
  {
   "cell_type": "code",
   "execution_count": 3,
   "id": "26265fce",
   "metadata": {},
   "outputs": [
    {
     "data": {
      "text/html": [
       "<div>\n",
       "<style scoped>\n",
       "    .dataframe tbody tr th:only-of-type {\n",
       "        vertical-align: middle;\n",
       "    }\n",
       "\n",
       "    .dataframe tbody tr th {\n",
       "        vertical-align: top;\n",
       "    }\n",
       "\n",
       "    .dataframe thead th {\n",
       "        text-align: right;\n",
       "    }\n",
       "</style>\n",
       "<table border=\"1\" class=\"dataframe\">\n",
       "  <thead>\n",
       "    <tr style=\"text-align: right;\">\n",
       "      <th></th>\n",
       "      <th>UserID</th>\n",
       "      <th>Name</th>\n",
       "      <th>Gender</th>\n",
       "      <th>DOB</th>\n",
       "      <th>Interests</th>\n",
       "      <th>City</th>\n",
       "      <th>Country</th>\n",
       "    </tr>\n",
       "  </thead>\n",
       "  <tbody>\n",
       "    <tr>\n",
       "      <th>0</th>\n",
       "      <td>1</td>\n",
       "      <td>Jesse Lawhorn</td>\n",
       "      <td>Female</td>\n",
       "      <td>1958-10-15</td>\n",
       "      <td>'Movies', 'Fashion', 'Fashion', 'Books'</td>\n",
       "      <td>Sibolga</td>\n",
       "      <td>Indonesia</td>\n",
       "    </tr>\n",
       "    <tr>\n",
       "      <th>1</th>\n",
       "      <td>2</td>\n",
       "      <td>Stacy Payne</td>\n",
       "      <td>Female</td>\n",
       "      <td>2004-07-21</td>\n",
       "      <td>'Gaming', 'Finance and investments', 'Outdoor ...</td>\n",
       "      <td>Al Abyār</td>\n",
       "      <td>Libya</td>\n",
       "    </tr>\n",
       "    <tr>\n",
       "      <th>2</th>\n",
       "      <td>3</td>\n",
       "      <td>Katrina Nicewander</td>\n",
       "      <td>Female</td>\n",
       "      <td>2000-02-07</td>\n",
       "      <td>'DIY and crafts', 'Music', 'Science', 'Fashion'</td>\n",
       "      <td>Wādī as Sīr</td>\n",
       "      <td>Jordan</td>\n",
       "    </tr>\n",
       "    <tr>\n",
       "      <th>3</th>\n",
       "      <td>4</td>\n",
       "      <td>Eric Yarbrough</td>\n",
       "      <td>Male</td>\n",
       "      <td>1985-04-14</td>\n",
       "      <td>'Outdoor activities', 'Cars and automobiles'</td>\n",
       "      <td>Matera</td>\n",
       "      <td>Italy</td>\n",
       "    </tr>\n",
       "    <tr>\n",
       "      <th>4</th>\n",
       "      <td>5</td>\n",
       "      <td>Daniel Adkins</td>\n",
       "      <td>Female</td>\n",
       "      <td>1955-09-18</td>\n",
       "      <td>'Politics', 'History'</td>\n",
       "      <td>Biruaca</td>\n",
       "      <td>Venezuela</td>\n",
       "    </tr>\n",
       "  </tbody>\n",
       "</table>\n",
       "</div>"
      ],
      "text/plain": [
       "   UserID                Name  Gender         DOB  \\\n",
       "0       1       Jesse Lawhorn  Female  1958-10-15   \n",
       "1       2         Stacy Payne  Female  2004-07-21   \n",
       "2       3  Katrina Nicewander  Female  2000-02-07   \n",
       "3       4      Eric Yarbrough    Male  1985-04-14   \n",
       "4       5       Daniel Adkins  Female  1955-09-18   \n",
       "\n",
       "                                           Interests         City    Country  \n",
       "0            'Movies', 'Fashion', 'Fashion', 'Books'      Sibolga  Indonesia  \n",
       "1  'Gaming', 'Finance and investments', 'Outdoor ...     Al Abyār      Libya  \n",
       "2    'DIY and crafts', 'Music', 'Science', 'Fashion'  Wādī as Sīr     Jordan  \n",
       "3       'Outdoor activities', 'Cars and automobiles'       Matera      Italy  \n",
       "4                              'Politics', 'History'      Biruaca  Venezuela  "
      ]
     },
     "execution_count": 3,
     "metadata": {},
     "output_type": "execute_result"
    }
   ],
   "source": [
    "df.head()"
   ]
  },
  {
   "cell_type": "code",
   "execution_count": 4,
   "id": "3802e880",
   "metadata": {},
   "outputs": [
    {
     "data": {
      "text/html": [
       "<div>\n",
       "<style scoped>\n",
       "    .dataframe tbody tr th:only-of-type {\n",
       "        vertical-align: middle;\n",
       "    }\n",
       "\n",
       "    .dataframe tbody tr th {\n",
       "        vertical-align: top;\n",
       "    }\n",
       "\n",
       "    .dataframe thead th {\n",
       "        text-align: right;\n",
       "    }\n",
       "</style>\n",
       "<table border=\"1\" class=\"dataframe\">\n",
       "  <thead>\n",
       "    <tr style=\"text-align: right;\">\n",
       "      <th></th>\n",
       "      <th>UserID</th>\n",
       "      <th>Name</th>\n",
       "      <th>Gender</th>\n",
       "      <th>DOB</th>\n",
       "      <th>Interests</th>\n",
       "      <th>City</th>\n",
       "      <th>Country</th>\n",
       "    </tr>\n",
       "  </thead>\n",
       "  <tbody>\n",
       "    <tr>\n",
       "      <th>99995</th>\n",
       "      <td>99996</td>\n",
       "      <td>Lionel Denault</td>\n",
       "      <td>Female</td>\n",
       "      <td>1983-07-31</td>\n",
       "      <td>'DIY and crafts'</td>\n",
       "      <td>Dawan</td>\n",
       "      <td>China</td>\n",
       "    </tr>\n",
       "    <tr>\n",
       "      <th>99996</th>\n",
       "      <td>99997</td>\n",
       "      <td>Margie Mieszala</td>\n",
       "      <td>Female</td>\n",
       "      <td>1954-05-20</td>\n",
       "      <td>'Cars and automobiles', 'Cooking', 'Outdoor ac...</td>\n",
       "      <td>Arcos de la Frontera</td>\n",
       "      <td>Spain</td>\n",
       "    </tr>\n",
       "    <tr>\n",
       "      <th>99997</th>\n",
       "      <td>99998</td>\n",
       "      <td>Joan Mercedes</td>\n",
       "      <td>Male</td>\n",
       "      <td>1975-06-06</td>\n",
       "      <td>'Business and entrepreneurship', 'Cooking'</td>\n",
       "      <td>Los Andes</td>\n",
       "      <td>Chile</td>\n",
       "    </tr>\n",
       "    <tr>\n",
       "      <th>99998</th>\n",
       "      <td>99999</td>\n",
       "      <td>Marvin Massa</td>\n",
       "      <td>Female</td>\n",
       "      <td>1959-11-16</td>\n",
       "      <td>'Gaming', 'Business and entrepreneurship', 'Fa...</td>\n",
       "      <td>Varjota</td>\n",
       "      <td>Brazil</td>\n",
       "    </tr>\n",
       "    <tr>\n",
       "      <th>99999</th>\n",
       "      <td>100000</td>\n",
       "      <td>Josh Young</td>\n",
       "      <td>Female</td>\n",
       "      <td>1988-07-29</td>\n",
       "      <td>'Politics', 'Pets'</td>\n",
       "      <td>Brzeg</td>\n",
       "      <td>Poland</td>\n",
       "    </tr>\n",
       "  </tbody>\n",
       "</table>\n",
       "</div>"
      ],
      "text/plain": [
       "       UserID             Name  Gender         DOB  \\\n",
       "99995   99996   Lionel Denault  Female  1983-07-31   \n",
       "99996   99997  Margie Mieszala  Female  1954-05-20   \n",
       "99997   99998    Joan Mercedes    Male  1975-06-06   \n",
       "99998   99999     Marvin Massa  Female  1959-11-16   \n",
       "99999  100000       Josh Young  Female  1988-07-29   \n",
       "\n",
       "                                               Interests  \\\n",
       "99995                                   'DIY and crafts'   \n",
       "99996  'Cars and automobiles', 'Cooking', 'Outdoor ac...   \n",
       "99997         'Business and entrepreneurship', 'Cooking'   \n",
       "99998  'Gaming', 'Business and entrepreneurship', 'Fa...   \n",
       "99999                                 'Politics', 'Pets'   \n",
       "\n",
       "                       City Country  \n",
       "99995                 Dawan   China  \n",
       "99996  Arcos de la Frontera   Spain  \n",
       "99997             Los Andes   Chile  \n",
       "99998               Varjota  Brazil  \n",
       "99999                 Brzeg  Poland  "
      ]
     },
     "execution_count": 4,
     "metadata": {},
     "output_type": "execute_result"
    }
   ],
   "source": [
    "df.tail()"
   ]
  },
  {
   "cell_type": "code",
   "execution_count": 5,
   "id": "db59a31e",
   "metadata": {},
   "outputs": [
    {
     "name": "stdout",
     "output_type": "stream",
     "text": [
      "<class 'pandas.core.frame.DataFrame'>\n",
      "RangeIndex: 100000 entries, 0 to 99999\n",
      "Data columns (total 7 columns):\n",
      " #   Column     Non-Null Count   Dtype \n",
      "---  ------     --------------   ----- \n",
      " 0   UserID     100000 non-null  int64 \n",
      " 1   Name       100000 non-null  object\n",
      " 2   Gender     100000 non-null  object\n",
      " 3   DOB        100000 non-null  object\n",
      " 4   Interests  100000 non-null  object\n",
      " 5   City       100000 non-null  object\n",
      " 6   Country    100000 non-null  object\n",
      "dtypes: int64(1), object(6)\n",
      "memory usage: 5.3+ MB\n"
     ]
    }
   ],
   "source": [
    "df.info()"
   ]
  },
  {
   "cell_type": "code",
   "execution_count": 6,
   "id": "b2bdf013",
   "metadata": {},
   "outputs": [
    {
     "data": {
      "text/plain": [
       "(100000, 7)"
      ]
     },
     "execution_count": 6,
     "metadata": {},
     "output_type": "execute_result"
    }
   ],
   "source": [
    "df.shape"
   ]
  },
  {
   "cell_type": "code",
   "execution_count": 7,
   "id": "7815b188",
   "metadata": {},
   "outputs": [
    {
     "data": {
      "text/plain": [
       "UserID       0\n",
       "Name         0\n",
       "Gender       0\n",
       "DOB          0\n",
       "Interests    0\n",
       "City         0\n",
       "Country      0\n",
       "dtype: int64"
      ]
     },
     "execution_count": 7,
     "metadata": {},
     "output_type": "execute_result"
    }
   ],
   "source": [
    "df.isnull().sum()"
   ]
  },
  {
   "cell_type": "code",
   "execution_count": 8,
   "id": "6aa9bcea",
   "metadata": {},
   "outputs": [
    {
     "data": {
      "text/plain": [
       "array([\"'Movies', 'Fashion', 'Fashion', 'Books'\",\n",
       "       \"'Gaming', 'Finance and investments', 'Outdoor activities', 'Travel'\",\n",
       "       \"'DIY and crafts', 'Music', 'Science', 'Fashion'\", ...,\n",
       "       \"'Cooking', 'Business and entrepreneurship', 'Outdoor activities'\",\n",
       "       \"'Cars and automobiles', 'Cooking', 'Outdoor activities'\",\n",
       "       \"'Gaming', 'Business and entrepreneurship', 'Fashion', 'Parenting and family', 'Photography'\"],\n",
       "      dtype=object)"
      ]
     },
     "execution_count": 8,
     "metadata": {},
     "output_type": "execute_result"
    }
   ],
   "source": [
    "df.Interests.unique()"
   ]
  },
  {
   "cell_type": "code",
   "execution_count": 9,
   "id": "f0c31828",
   "metadata": {},
   "outputs": [
    {
     "data": {
      "text/plain": [
       "53737"
      ]
     },
     "execution_count": 9,
     "metadata": {},
     "output_type": "execute_result"
    }
   ],
   "source": [
    "df.Interests.nunique()"
   ]
  },
  {
   "cell_type": "code",
   "execution_count": 10,
   "id": "1c14852a",
   "metadata": {},
   "outputs": [
    {
     "data": {
      "text/plain": [
       "'Fashion'                                                                                           1371\n",
       "'Social causes and activism'                                                                         729\n",
       "'Business and entrepreneurship'                                                                      711\n",
       "'Finance and investments'                                                                            707\n",
       "'Education and learning'                                                                             706\n",
       "                                                                                                    ... \n",
       "'Outdoor activities', 'DIY and crafts', 'Art', 'Fashion'                                               1\n",
       "'Gaming', 'Social causes and activism', 'Food and dining'                                              1\n",
       "'Parenting and family', 'Parenting and family', 'Food and dining', 'Art', 'Parenting and family'       1\n",
       "'Cars and automobiles', 'Books', 'Fashion', 'Finance and investments'                                  1\n",
       "'Gaming', 'Business and entrepreneurship', 'Fashion', 'Parenting and family', 'Photography'            1\n",
       "Name: Interests, Length: 53737, dtype: int64"
      ]
     },
     "execution_count": 10,
     "metadata": {},
     "output_type": "execute_result"
    }
   ],
   "source": [
    "df.Interests.value_counts()"
   ]
  },
  {
   "cell_type": "code",
   "execution_count": 11,
   "id": "65f05343",
   "metadata": {},
   "outputs": [
    {
     "data": {
      "text/plain": [
       "array(['Indonesia', 'Libya', 'Jordan', 'Italy', 'Venezuela',\n",
       "       'United States', 'United Kingdom', 'Sudan', 'Saudi Arabia',\n",
       "       'India', 'Russia', 'Belgium', 'China', 'Brazil', 'Poland', 'Japan',\n",
       "       'North Korea', 'Colombia', 'Sri Lanka', 'Spain', 'Germany',\n",
       "       'Bangladesh', 'Greece', 'Syria', 'Ethiopia', 'France', 'Nigeria',\n",
       "       'Australia', 'Malaysia', 'Czechia', 'Thailand', 'Canada',\n",
       "       'Uzbekistan', 'Israel', 'Mauritania', 'Cuba',\n",
       "       'Democratic Republic of the Congo', 'Egypt', 'Romania',\n",
       "       'New Caledonia', 'Iran', 'Argentina', 'Mexico', 'Hungary',\n",
       "       'Belarus', 'Reunion', 'Guyana', 'Chile', 'Turkey', 'South Africa',\n",
       "       'Pakistan', 'Iraq', 'Cameroon', 'Netherlands', 'Ecuador',\n",
       "       'Madagascar', 'Serbia', 'Philippines', 'Afghanistan', 'Ireland',\n",
       "       'North Macedonia', 'Papua New Guinea', 'South Korea',\n",
       "       'South Sudan', 'Sierra Leone', 'New Zealand', 'Malawi', 'Ukraine',\n",
       "       'Sweden', 'Azerbaijan', 'Norway', 'Portugal',\n",
       "       'Turks and Caicos Islands', 'Botswana', 'Trinidad and Tobago',\n",
       "       'Nicaragua', 'Switzerland', 'Zimbabwe', 'Guatemala', 'Tunisia',\n",
       "       'Peru', 'Austria', 'Bulgaria', 'Morocco', 'Niger', 'Moldova',\n",
       "       'Ivory Coast', 'Costa Rica', 'Panama', 'Eritrea', 'Algeria',\n",
       "       'Kazakhstan', 'Burkina Faso', 'Palestinian Territory', 'Guam',\n",
       "       'Croatia', 'Namibia', 'Lithuania', 'Finland', 'Vietnam', 'Somalia',\n",
       "       'Bosnia and Herzegovina', 'Tanzania', 'Denmark', 'Kuwait',\n",
       "       'Slovakia', 'Ghana', 'Mali', 'Kosovo', 'Mauritius', 'Gambia',\n",
       "       'El Salvador', 'Cambodia', 'Nepal', 'Latvia', 'Tajikistan',\n",
       "       'Benin', 'South Georgia and the South Sandwich Islands',\n",
       "       'Turkmenistan', 'Kyrgyzstan', 'Mongolia', 'Vatican', 'Uruguay',\n",
       "       'Malta', 'Bahrain', 'Kenya', 'Senegal', 'Mozambique', 'Gabon',\n",
       "       'Yemen', 'Angola', 'Luxembourg', 'Slovenia', 'Hong Kong',\n",
       "       'Dominican Republic', 'Fiji', 'Lesotho', 'Puerto Rico', 'Armenia',\n",
       "       'Taiwan', 'Central African Republic', 'Zambia', 'Haiti', 'Myanmar',\n",
       "       'Paraguay', 'Sao Tome and Principe', 'Montenegro', 'Estonia',\n",
       "       'United Arab Emirates', 'Cabo Verde', 'Georgia', 'Cocos Islands',\n",
       "       'Cayman Islands', 'Albania', 'Oman', 'Bolivia', 'Rwanda',\n",
       "       'French Polynesia', 'Lebanon', 'Laos', 'Uganda', 'Togo', 'Guinea',\n",
       "       'Timor Leste', 'Saint Barthelemy', 'Chad', 'Montserrat', 'Monaco',\n",
       "       'Cyprus', 'Liberia', 'French Southern Territories', 'Tuvalu',\n",
       "       'Republic of the Congo', 'French Guiana', 'Singapore',\n",
       "       'Western Sahara', 'Martinique', 'Honduras', 'Guadeloupe',\n",
       "       'Greenland', 'Brunei', 'Suriname', 'Burundi',\n",
       "       'U.S. Virgin Islands', 'Jersey', 'Gibraltar', 'Qatar', 'Jamaica',\n",
       "       'Saint Vincent and the Grenadines', 'Northern Mariana Islands',\n",
       "       'Solomon Islands', 'Tonga', 'Anguilla', 'Norfolk Island',\n",
       "       'Faroe Islands', 'Sint Maarten', 'Marshall Islands',\n",
       "       'Cook Islands', 'Belize', 'Bhutan',\n",
       "       'Bonaire, Saint Eustatius and Saba ', 'Guinea-Bissau', 'Iceland',\n",
       "       'Seychelles', 'Andorra', 'San Marino', 'Maldives',\n",
       "       'Wallis and Futuna', 'Saint Lucia', 'Aruba', 'Eswatini', 'Vanuatu',\n",
       "       'Saint Helena', 'Comoros', 'Niue', 'Kiribati',\n",
       "       'Saint Kitts and Nevis', 'Equatorial Guinea',\n",
       "       'British Virgin Islands', 'Isle of Man', 'Bahamas', 'Nauru',\n",
       "       'Saint Pierre and Miquelon', 'Christmas Island', 'Guernsey',\n",
       "       'Bermuda', 'Micronesia', 'Antigua and Barbuda', 'Aland Islands',\n",
       "       'Barbados', 'Falkland Islands', 'Pitcairn', 'Samoa', 'Palau',\n",
       "       'Mayotte', 'Djibouti', 'Dominica', 'Grenada', 'Curacao', 'Macao',\n",
       "       'Svalbard and Jan Mayen', 'American Samoa', 'Liechtenstein',\n",
       "       'Saint Martin'], dtype=object)"
      ]
     },
     "execution_count": 11,
     "metadata": {},
     "output_type": "execute_result"
    }
   ],
   "source": [
    "df.Country.unique()"
   ]
  },
  {
   "cell_type": "code",
   "execution_count": 12,
   "id": "9d153814",
   "metadata": {},
   "outputs": [
    {
     "data": {
      "text/plain": [
       "United States          12311\n",
       "India                   9399\n",
       "China                   7381\n",
       "Brazil                  4643\n",
       "Russia                  4254\n",
       "                       ...  \n",
       "Antigua and Barbuda        2\n",
       "Isle of Man                2\n",
       "Saint Lucia                1\n",
       "American Samoa             1\n",
       "Saint Martin               1\n",
       "Name: Country, Length: 244, dtype: int64"
      ]
     },
     "execution_count": 12,
     "metadata": {},
     "output_type": "execute_result"
    }
   ],
   "source": [
    "df.Country.value_counts()"
   ]
  },
  {
   "cell_type": "code",
   "execution_count": 13,
   "id": "4b1504ae",
   "metadata": {},
   "outputs": [
    {
     "data": {
      "text/plain": [
       "array(['Sibolga', 'Al Abyār', 'Wādī as Sīr', ..., 'Mudhol', 'Shirone',\n",
       "       'Tepotzotlán'], dtype=object)"
      ]
     },
     "execution_count": 13,
     "metadata": {},
     "output_type": "execute_result"
    }
   ],
   "source": [
    "df.City.unique()"
   ]
  },
  {
   "cell_type": "code",
   "execution_count": 14,
   "id": "0e0b03b7",
   "metadata": {},
   "outputs": [
    {
     "data": {
      "text/plain": [
       "Springfield      37\n",
       "Victoria         35\n",
       "Santa Cruz       34\n",
       "San Fernando     33\n",
       "San Francisco    31\n",
       "                 ..\n",
       "Rondebosch        1\n",
       "Lutuhyne          1\n",
       "Chuzhou           1\n",
       "Safonovo          1\n",
       "Tepotzotlán       1\n",
       "Name: City, Length: 24452, dtype: int64"
      ]
     },
     "execution_count": 14,
     "metadata": {},
     "output_type": "execute_result"
    }
   ],
   "source": [
    "df.City.value_counts()"
   ]
  },
  {
   "cell_type": "code",
   "execution_count": 15,
   "id": "6d0a138c",
   "metadata": {},
   "outputs": [
    {
     "data": {
      "text/plain": [
       "array(['Female', 'Male'], dtype=object)"
      ]
     },
     "execution_count": 15,
     "metadata": {},
     "output_type": "execute_result"
    }
   ],
   "source": [
    "df.Gender.unique()"
   ]
  },
  {
   "cell_type": "code",
   "execution_count": 16,
   "id": "624084e0",
   "metadata": {},
   "outputs": [
    {
     "data": {
      "text/plain": [
       "Male      50069\n",
       "Female    49931\n",
       "Name: Gender, dtype: int64"
      ]
     },
     "execution_count": 16,
     "metadata": {},
     "output_type": "execute_result"
    }
   ],
   "source": [
    "df.Gender.value_counts()"
   ]
  },
  {
   "cell_type": "markdown",
   "id": "bd61f1e8",
   "metadata": {},
   "source": [
    "***\n",
    "## Data Cleaning\n",
    "***"
   ]
  },
  {
   "cell_type": "code",
   "execution_count": 17,
   "id": "56caa432",
   "metadata": {},
   "outputs": [
    {
     "data": {
      "text/plain": [
       "0                  'Movies', 'Fashion', 'Fashion', 'Books'\n",
       "1        'Gaming', 'Finance and investments', 'Outdoor ...\n",
       "2          'DIY and crafts', 'Music', 'Science', 'Fashion'\n",
       "3             'Outdoor activities', 'Cars and automobiles'\n",
       "4                                    'Politics', 'History'\n",
       "                               ...                        \n",
       "99995                                     'DIY and crafts'\n",
       "99996    'Cars and automobiles', 'Cooking', 'Outdoor ac...\n",
       "99997           'Business and entrepreneurship', 'Cooking'\n",
       "99998    'Gaming', 'Business and entrepreneurship', 'Fa...\n",
       "99999                                   'Politics', 'Pets'\n",
       "Name: Interests, Length: 100000, dtype: object"
      ]
     },
     "execution_count": 17,
     "metadata": {},
     "output_type": "execute_result"
    }
   ],
   "source": [
    "df[\"Interests\"]"
   ]
  },
  {
   "cell_type": "code",
   "execution_count": 18,
   "id": "1b9da9c6",
   "metadata": {},
   "outputs": [],
   "source": [
    "df[\"Interests\"]=df.Interests.str[1:-1].str.split(\",\\s\").map(set)"
   ]
  },
  {
   "cell_type": "markdown",
   "id": "05879cc0",
   "metadata": {},
   "source": [
    "***\n",
    "## Data Transformation\n",
    "***"
   ]
  },
  {
   "cell_type": "code",
   "execution_count": 19,
   "id": "13c0cf14",
   "metadata": {},
   "outputs": [
    {
     "data": {
      "text/html": [
       "<div>\n",
       "<style scoped>\n",
       "    .dataframe tbody tr th:only-of-type {\n",
       "        vertical-align: middle;\n",
       "    }\n",
       "\n",
       "    .dataframe tbody tr th {\n",
       "        vertical-align: top;\n",
       "    }\n",
       "\n",
       "    .dataframe thead th {\n",
       "        text-align: right;\n",
       "    }\n",
       "</style>\n",
       "<table border=\"1\" class=\"dataframe\">\n",
       "  <thead>\n",
       "    <tr style=\"text-align: right;\">\n",
       "      <th></th>\n",
       "      <th>UserID</th>\n",
       "      <th>Name</th>\n",
       "      <th>Gender</th>\n",
       "      <th>DOB</th>\n",
       "      <th>Interests</th>\n",
       "      <th>City</th>\n",
       "      <th>Country</th>\n",
       "    </tr>\n",
       "  </thead>\n",
       "  <tbody>\n",
       "    <tr>\n",
       "      <th>0</th>\n",
       "      <td>1</td>\n",
       "      <td>Jesse Lawhorn</td>\n",
       "      <td>Female</td>\n",
       "      <td>1958-10-15</td>\n",
       "      <td>{Movies', 'Fashion', 'Books}</td>\n",
       "      <td>Sibolga</td>\n",
       "      <td>Indonesia</td>\n",
       "    </tr>\n",
       "    <tr>\n",
       "      <th>1</th>\n",
       "      <td>2</td>\n",
       "      <td>Stacy Payne</td>\n",
       "      <td>Female</td>\n",
       "      <td>2004-07-21</td>\n",
       "      <td>{'Outdoor activities', 'Travel, 'Finance and i...</td>\n",
       "      <td>Al Abyār</td>\n",
       "      <td>Libya</td>\n",
       "    </tr>\n",
       "    <tr>\n",
       "      <th>2</th>\n",
       "      <td>3</td>\n",
       "      <td>Katrina Nicewander</td>\n",
       "      <td>Female</td>\n",
       "      <td>2000-02-07</td>\n",
       "      <td>{DIY and crafts', 'Science', 'Fashion, 'Music'}</td>\n",
       "      <td>Wādī as Sīr</td>\n",
       "      <td>Jordan</td>\n",
       "    </tr>\n",
       "    <tr>\n",
       "      <th>3</th>\n",
       "      <td>4</td>\n",
       "      <td>Eric Yarbrough</td>\n",
       "      <td>Male</td>\n",
       "      <td>1985-04-14</td>\n",
       "      <td>{Outdoor activities', 'Cars and automobiles}</td>\n",
       "      <td>Matera</td>\n",
       "      <td>Italy</td>\n",
       "    </tr>\n",
       "    <tr>\n",
       "      <th>4</th>\n",
       "      <td>5</td>\n",
       "      <td>Daniel Adkins</td>\n",
       "      <td>Female</td>\n",
       "      <td>1955-09-18</td>\n",
       "      <td>{Politics', 'History}</td>\n",
       "      <td>Biruaca</td>\n",
       "      <td>Venezuela</td>\n",
       "    </tr>\n",
       "  </tbody>\n",
       "</table>\n",
       "</div>"
      ],
      "text/plain": [
       "   UserID                Name  Gender         DOB  \\\n",
       "0       1       Jesse Lawhorn  Female  1958-10-15   \n",
       "1       2         Stacy Payne  Female  2004-07-21   \n",
       "2       3  Katrina Nicewander  Female  2000-02-07   \n",
       "3       4      Eric Yarbrough    Male  1985-04-14   \n",
       "4       5       Daniel Adkins  Female  1955-09-18   \n",
       "\n",
       "                                           Interests         City    Country  \n",
       "0                       {Movies', 'Fashion', 'Books}      Sibolga  Indonesia  \n",
       "1  {'Outdoor activities', 'Travel, 'Finance and i...     Al Abyār      Libya  \n",
       "2    {DIY and crafts', 'Science', 'Fashion, 'Music'}  Wādī as Sīr     Jordan  \n",
       "3       {Outdoor activities', 'Cars and automobiles}       Matera      Italy  \n",
       "4                              {Politics', 'History}      Biruaca  Venezuela  "
      ]
     },
     "execution_count": 19,
     "metadata": {},
     "output_type": "execute_result"
    }
   ],
   "source": [
    "df.head()"
   ]
  },
  {
   "cell_type": "code",
   "execution_count": 20,
   "id": "cc998e7e",
   "metadata": {},
   "outputs": [
    {
     "name": "stderr",
     "output_type": "stream",
     "text": [
      "C:\\Users\\sagar bhanage\\anaconda3\\lib\\site-packages\\pandas\\core\\arrays\\datetimes.py:2199: FutureWarning: The parsing of 'now' in pd.to_datetime without `utc=True` is deprecated. In a future version, this will match Timestamp('now') and Timestamp.now()\n",
      "  result, tz_parsed = tslib.array_to_datetime(\n"
     ]
    }
   ],
   "source": [
    "df[\"DOB\"]=pd.to_datetime(df[\"DOB\"])\n",
    "now=pd.to_datetime(\"now\")"
   ]
  },
  {
   "cell_type": "code",
   "execution_count": 21,
   "id": "19ff2887",
   "metadata": {},
   "outputs": [],
   "source": [
    "df[\"Age\"]=(now - df['DOB']).astype('<m8[Y]') "
   ]
  },
  {
   "cell_type": "code",
   "execution_count": 22,
   "id": "556a8235",
   "metadata": {},
   "outputs": [],
   "source": [
    "df[\"Age\"]=df[\"Age\"].astype(\"int\")"
   ]
  },
  {
   "cell_type": "code",
   "execution_count": 23,
   "id": "d07a18b7",
   "metadata": {},
   "outputs": [
    {
     "data": {
      "text/html": [
       "<div>\n",
       "<style scoped>\n",
       "    .dataframe tbody tr th:only-of-type {\n",
       "        vertical-align: middle;\n",
       "    }\n",
       "\n",
       "    .dataframe tbody tr th {\n",
       "        vertical-align: top;\n",
       "    }\n",
       "\n",
       "    .dataframe thead th {\n",
       "        text-align: right;\n",
       "    }\n",
       "</style>\n",
       "<table border=\"1\" class=\"dataframe\">\n",
       "  <thead>\n",
       "    <tr style=\"text-align: right;\">\n",
       "      <th></th>\n",
       "      <th>UserID</th>\n",
       "      <th>Name</th>\n",
       "      <th>Gender</th>\n",
       "      <th>DOB</th>\n",
       "      <th>Interests</th>\n",
       "      <th>City</th>\n",
       "      <th>Country</th>\n",
       "      <th>Age</th>\n",
       "    </tr>\n",
       "  </thead>\n",
       "  <tbody>\n",
       "    <tr>\n",
       "      <th>99995</th>\n",
       "      <td>99996</td>\n",
       "      <td>Lionel Denault</td>\n",
       "      <td>Female</td>\n",
       "      <td>1983-07-31</td>\n",
       "      <td>{DIY and crafts}</td>\n",
       "      <td>Dawan</td>\n",
       "      <td>China</td>\n",
       "      <td>40</td>\n",
       "    </tr>\n",
       "    <tr>\n",
       "      <th>99996</th>\n",
       "      <td>99997</td>\n",
       "      <td>Margie Mieszala</td>\n",
       "      <td>Female</td>\n",
       "      <td>1954-05-20</td>\n",
       "      <td>{'Cooking', 'Outdoor activities, Cars and auto...</td>\n",
       "      <td>Arcos de la Frontera</td>\n",
       "      <td>Spain</td>\n",
       "      <td>69</td>\n",
       "    </tr>\n",
       "    <tr>\n",
       "      <th>99997</th>\n",
       "      <td>99998</td>\n",
       "      <td>Joan Mercedes</td>\n",
       "      <td>Male</td>\n",
       "      <td>1975-06-06</td>\n",
       "      <td>{'Cooking, Business and entrepreneurship'}</td>\n",
       "      <td>Los Andes</td>\n",
       "      <td>Chile</td>\n",
       "      <td>48</td>\n",
       "    </tr>\n",
       "    <tr>\n",
       "      <th>99998</th>\n",
       "      <td>99999</td>\n",
       "      <td>Marvin Massa</td>\n",
       "      <td>Female</td>\n",
       "      <td>1959-11-16</td>\n",
       "      <td>{'Business and entrepreneurship', 'Photography...</td>\n",
       "      <td>Varjota</td>\n",
       "      <td>Brazil</td>\n",
       "      <td>63</td>\n",
       "    </tr>\n",
       "    <tr>\n",
       "      <th>99999</th>\n",
       "      <td>100000</td>\n",
       "      <td>Josh Young</td>\n",
       "      <td>Female</td>\n",
       "      <td>1988-07-29</td>\n",
       "      <td>{Politics', 'Pets}</td>\n",
       "      <td>Brzeg</td>\n",
       "      <td>Poland</td>\n",
       "      <td>35</td>\n",
       "    </tr>\n",
       "  </tbody>\n",
       "</table>\n",
       "</div>"
      ],
      "text/plain": [
       "       UserID             Name  Gender        DOB  \\\n",
       "99995   99996   Lionel Denault  Female 1983-07-31   \n",
       "99996   99997  Margie Mieszala  Female 1954-05-20   \n",
       "99997   99998    Joan Mercedes    Male 1975-06-06   \n",
       "99998   99999     Marvin Massa  Female 1959-11-16   \n",
       "99999  100000       Josh Young  Female 1988-07-29   \n",
       "\n",
       "                                               Interests  \\\n",
       "99995                                   {DIY and crafts}   \n",
       "99996  {'Cooking', 'Outdoor activities, Cars and auto...   \n",
       "99997         {'Cooking, Business and entrepreneurship'}   \n",
       "99998  {'Business and entrepreneurship', 'Photography...   \n",
       "99999                                 {Politics', 'Pets}   \n",
       "\n",
       "                       City Country  Age  \n",
       "99995                 Dawan   China   40  \n",
       "99996  Arcos de la Frontera   Spain   69  \n",
       "99997             Los Andes   Chile   48  \n",
       "99998               Varjota  Brazil   63  \n",
       "99999                 Brzeg  Poland   35  "
      ]
     },
     "execution_count": 23,
     "metadata": {},
     "output_type": "execute_result"
    }
   ],
   "source": [
    "df.tail()"
   ]
  },
  {
   "cell_type": "code",
   "execution_count": 24,
   "id": "a4fafb00",
   "metadata": {},
   "outputs": [],
   "source": [
    "df=df.set_index(\"UserID\")"
   ]
  },
  {
   "cell_type": "markdown",
   "id": "3da40090",
   "metadata": {},
   "source": [
    "***\n",
    "## Insights Generation\n",
    "***"
   ]
  },
  {
   "cell_type": "code",
   "execution_count": 25,
   "id": "4d265b9c",
   "metadata": {},
   "outputs": [
    {
     "data": {
      "text/html": [
       "<div>\n",
       "<style scoped>\n",
       "    .dataframe tbody tr th:only-of-type {\n",
       "        vertical-align: middle;\n",
       "    }\n",
       "\n",
       "    .dataframe tbody tr th {\n",
       "        vertical-align: top;\n",
       "    }\n",
       "\n",
       "    .dataframe thead th {\n",
       "        text-align: right;\n",
       "    }\n",
       "</style>\n",
       "<table border=\"1\" class=\"dataframe\">\n",
       "  <thead>\n",
       "    <tr style=\"text-align: right;\">\n",
       "      <th></th>\n",
       "      <th>Name</th>\n",
       "      <th>Gender</th>\n",
       "      <th>DOB</th>\n",
       "      <th>Interests</th>\n",
       "      <th>City</th>\n",
       "      <th>Country</th>\n",
       "      <th>Age</th>\n",
       "    </tr>\n",
       "    <tr>\n",
       "      <th>UserID</th>\n",
       "      <th></th>\n",
       "      <th></th>\n",
       "      <th></th>\n",
       "      <th></th>\n",
       "      <th></th>\n",
       "      <th></th>\n",
       "      <th></th>\n",
       "    </tr>\n",
       "  </thead>\n",
       "  <tbody>\n",
       "    <tr>\n",
       "      <th>1</th>\n",
       "      <td>Jesse Lawhorn</td>\n",
       "      <td>Female</td>\n",
       "      <td>1958-10-15</td>\n",
       "      <td>{Movies', 'Fashion', 'Books}</td>\n",
       "      <td>Sibolga</td>\n",
       "      <td>Indonesia</td>\n",
       "      <td>65</td>\n",
       "    </tr>\n",
       "    <tr>\n",
       "      <th>2</th>\n",
       "      <td>Stacy Payne</td>\n",
       "      <td>Female</td>\n",
       "      <td>2004-07-21</td>\n",
       "      <td>{'Outdoor activities', 'Travel, 'Finance and i...</td>\n",
       "      <td>Al Abyār</td>\n",
       "      <td>Libya</td>\n",
       "      <td>19</td>\n",
       "    </tr>\n",
       "    <tr>\n",
       "      <th>3</th>\n",
       "      <td>Katrina Nicewander</td>\n",
       "      <td>Female</td>\n",
       "      <td>2000-02-07</td>\n",
       "      <td>{DIY and crafts', 'Science', 'Fashion, 'Music'}</td>\n",
       "      <td>Wādī as Sīr</td>\n",
       "      <td>Jordan</td>\n",
       "      <td>23</td>\n",
       "    </tr>\n",
       "    <tr>\n",
       "      <th>4</th>\n",
       "      <td>Eric Yarbrough</td>\n",
       "      <td>Male</td>\n",
       "      <td>1985-04-14</td>\n",
       "      <td>{Outdoor activities', 'Cars and automobiles}</td>\n",
       "      <td>Matera</td>\n",
       "      <td>Italy</td>\n",
       "      <td>38</td>\n",
       "    </tr>\n",
       "    <tr>\n",
       "      <th>5</th>\n",
       "      <td>Daniel Adkins</td>\n",
       "      <td>Female</td>\n",
       "      <td>1955-09-18</td>\n",
       "      <td>{Politics', 'History}</td>\n",
       "      <td>Biruaca</td>\n",
       "      <td>Venezuela</td>\n",
       "      <td>68</td>\n",
       "    </tr>\n",
       "    <tr>\n",
       "      <th>...</th>\n",
       "      <td>...</td>\n",
       "      <td>...</td>\n",
       "      <td>...</td>\n",
       "      <td>...</td>\n",
       "      <td>...</td>\n",
       "      <td>...</td>\n",
       "      <td>...</td>\n",
       "    </tr>\n",
       "    <tr>\n",
       "      <th>99996</th>\n",
       "      <td>Lionel Denault</td>\n",
       "      <td>Female</td>\n",
       "      <td>1983-07-31</td>\n",
       "      <td>{DIY and crafts}</td>\n",
       "      <td>Dawan</td>\n",
       "      <td>China</td>\n",
       "      <td>40</td>\n",
       "    </tr>\n",
       "    <tr>\n",
       "      <th>99997</th>\n",
       "      <td>Margie Mieszala</td>\n",
       "      <td>Female</td>\n",
       "      <td>1954-05-20</td>\n",
       "      <td>{'Cooking', 'Outdoor activities, Cars and auto...</td>\n",
       "      <td>Arcos de la Frontera</td>\n",
       "      <td>Spain</td>\n",
       "      <td>69</td>\n",
       "    </tr>\n",
       "    <tr>\n",
       "      <th>99998</th>\n",
       "      <td>Joan Mercedes</td>\n",
       "      <td>Male</td>\n",
       "      <td>1975-06-06</td>\n",
       "      <td>{'Cooking, Business and entrepreneurship'}</td>\n",
       "      <td>Los Andes</td>\n",
       "      <td>Chile</td>\n",
       "      <td>48</td>\n",
       "    </tr>\n",
       "    <tr>\n",
       "      <th>99999</th>\n",
       "      <td>Marvin Massa</td>\n",
       "      <td>Female</td>\n",
       "      <td>1959-11-16</td>\n",
       "      <td>{'Business and entrepreneurship', 'Photography...</td>\n",
       "      <td>Varjota</td>\n",
       "      <td>Brazil</td>\n",
       "      <td>63</td>\n",
       "    </tr>\n",
       "    <tr>\n",
       "      <th>100000</th>\n",
       "      <td>Josh Young</td>\n",
       "      <td>Female</td>\n",
       "      <td>1988-07-29</td>\n",
       "      <td>{Politics', 'Pets}</td>\n",
       "      <td>Brzeg</td>\n",
       "      <td>Poland</td>\n",
       "      <td>35</td>\n",
       "    </tr>\n",
       "  </tbody>\n",
       "</table>\n",
       "<p>100000 rows × 7 columns</p>\n",
       "</div>"
      ],
      "text/plain": [
       "                      Name  Gender        DOB  \\\n",
       "UserID                                          \n",
       "1            Jesse Lawhorn  Female 1958-10-15   \n",
       "2              Stacy Payne  Female 2004-07-21   \n",
       "3       Katrina Nicewander  Female 2000-02-07   \n",
       "4           Eric Yarbrough    Male 1985-04-14   \n",
       "5            Daniel Adkins  Female 1955-09-18   \n",
       "...                    ...     ...        ...   \n",
       "99996       Lionel Denault  Female 1983-07-31   \n",
       "99997      Margie Mieszala  Female 1954-05-20   \n",
       "99998        Joan Mercedes    Male 1975-06-06   \n",
       "99999         Marvin Massa  Female 1959-11-16   \n",
       "100000          Josh Young  Female 1988-07-29   \n",
       "\n",
       "                                                Interests  \\\n",
       "UserID                                                      \n",
       "1                            {Movies', 'Fashion', 'Books}   \n",
       "2       {'Outdoor activities', 'Travel, 'Finance and i...   \n",
       "3         {DIY and crafts', 'Science', 'Fashion, 'Music'}   \n",
       "4            {Outdoor activities', 'Cars and automobiles}   \n",
       "5                                   {Politics', 'History}   \n",
       "...                                                   ...   \n",
       "99996                                    {DIY and crafts}   \n",
       "99997   {'Cooking', 'Outdoor activities, Cars and auto...   \n",
       "99998          {'Cooking, Business and entrepreneurship'}   \n",
       "99999   {'Business and entrepreneurship', 'Photography...   \n",
       "100000                                 {Politics', 'Pets}   \n",
       "\n",
       "                        City    Country  Age  \n",
       "UserID                                        \n",
       "1                    Sibolga  Indonesia   65  \n",
       "2                   Al Abyār      Libya   19  \n",
       "3                Wādī as Sīr     Jordan   23  \n",
       "4                     Matera      Italy   38  \n",
       "5                    Biruaca  Venezuela   68  \n",
       "...                      ...        ...  ...  \n",
       "99996                  Dawan      China   40  \n",
       "99997   Arcos de la Frontera      Spain   69  \n",
       "99998              Los Andes      Chile   48  \n",
       "99999                Varjota     Brazil   63  \n",
       "100000                 Brzeg     Poland   35  \n",
       "\n",
       "[100000 rows x 7 columns]"
      ]
     },
     "execution_count": 25,
     "metadata": {},
     "output_type": "execute_result"
    }
   ],
   "source": [
    "df"
   ]
  },
  {
   "cell_type": "code",
   "execution_count": 26,
   "id": "12603cf2",
   "metadata": {},
   "outputs": [],
   "source": [
    "df[\"Interests\"]=df.Interests.apply(list)\n",
    "df[\"Interests\"]=df.Interests.apply(str)"
   ]
  },
  {
   "cell_type": "code",
   "execution_count": 27,
   "id": "832cc263",
   "metadata": {},
   "outputs": [
    {
     "data": {
      "text/plain": [
       "UserID\n",
       "1                        [\"Movies'\", \"'Fashion'\", \"'Books\"]\n",
       "2         [\"'Outdoor activities'\", \"'Travel\", \"'Finance ...\n",
       "3         [\"DIY and crafts'\", \"'Science'\", \"'Fashion\", \"...\n",
       "4          [\"Outdoor activities'\", \"'Cars and automobiles\"]\n",
       "5                                 [\"Politics'\", \"'History\"]\n",
       "                                ...                        \n",
       "99996                                    ['DIY and crafts']\n",
       "99997     [\"'Cooking'\", \"'Outdoor activities\", \"Cars and...\n",
       "99998        [\"'Cooking\", \"Business and entrepreneurship'\"]\n",
       "99999     [\"'Business and entrepreneurship'\", \"'Photogra...\n",
       "100000                               [\"Politics'\", \"'Pets\"]\n",
       "Name: Interests, Length: 100000, dtype: object"
      ]
     },
     "execution_count": 27,
     "metadata": {},
     "output_type": "execute_result"
    }
   ],
   "source": [
    "df[\"Interests\"]"
   ]
  },
  {
   "cell_type": "markdown",
   "id": "c0230b1c",
   "metadata": {},
   "source": [
    "#### 1.What are age of most ative on social media usrs ?"
   ]
  },
  {
   "cell_type": "code",
   "execution_count": 28,
   "id": "9db790e5",
   "metadata": {},
   "outputs": [
    {
     "data": {
      "text/html": [
       "<div>\n",
       "<style scoped>\n",
       "    .dataframe tbody tr th:only-of-type {\n",
       "        vertical-align: middle;\n",
       "    }\n",
       "\n",
       "    .dataframe tbody tr th {\n",
       "        vertical-align: top;\n",
       "    }\n",
       "\n",
       "    .dataframe thead th {\n",
       "        text-align: right;\n",
       "    }\n",
       "</style>\n",
       "<table border=\"1\" class=\"dataframe\">\n",
       "  <thead>\n",
       "    <tr style=\"text-align: right;\">\n",
       "      <th></th>\n",
       "      <th>Name</th>\n",
       "      <th>Gender</th>\n",
       "      <th>DOB</th>\n",
       "      <th>Interests</th>\n",
       "      <th>City</th>\n",
       "      <th>Country</th>\n",
       "    </tr>\n",
       "    <tr>\n",
       "      <th>Age</th>\n",
       "      <th></th>\n",
       "      <th></th>\n",
       "      <th></th>\n",
       "      <th></th>\n",
       "      <th></th>\n",
       "      <th></th>\n",
       "    </tr>\n",
       "  </thead>\n",
       "  <tbody>\n",
       "    <tr>\n",
       "      <th>65</th>\n",
       "      <td>2073</td>\n",
       "      <td>2073</td>\n",
       "      <td>2073</td>\n",
       "      <td>2073</td>\n",
       "      <td>2073</td>\n",
       "      <td>2073</td>\n",
       "    </tr>\n",
       "    <tr>\n",
       "      <th>36</th>\n",
       "      <td>2064</td>\n",
       "      <td>2064</td>\n",
       "      <td>2064</td>\n",
       "      <td>2064</td>\n",
       "      <td>2064</td>\n",
       "      <td>2064</td>\n",
       "    </tr>\n",
       "    <tr>\n",
       "      <th>66</th>\n",
       "      <td>2043</td>\n",
       "      <td>2043</td>\n",
       "      <td>2043</td>\n",
       "      <td>2043</td>\n",
       "      <td>2043</td>\n",
       "      <td>2043</td>\n",
       "    </tr>\n",
       "    <tr>\n",
       "      <th>23</th>\n",
       "      <td>2032</td>\n",
       "      <td>2032</td>\n",
       "      <td>2032</td>\n",
       "      <td>2032</td>\n",
       "      <td>2032</td>\n",
       "      <td>2032</td>\n",
       "    </tr>\n",
       "    <tr>\n",
       "      <th>42</th>\n",
       "      <td>2024</td>\n",
       "      <td>2024</td>\n",
       "      <td>2024</td>\n",
       "      <td>2024</td>\n",
       "      <td>2024</td>\n",
       "      <td>2024</td>\n",
       "    </tr>\n",
       "  </tbody>\n",
       "</table>\n",
       "</div>"
      ],
      "text/plain": [
       "     Name  Gender   DOB  Interests  City  Country\n",
       "Age                                              \n",
       "65   2073    2073  2073       2073  2073     2073\n",
       "36   2064    2064  2064       2064  2064     2064\n",
       "66   2043    2043  2043       2043  2043     2043\n",
       "23   2032    2032  2032       2032  2032     2032\n",
       "42   2024    2024  2024       2024  2024     2024"
      ]
     },
     "execution_count": 28,
     "metadata": {},
     "output_type": "execute_result"
    }
   ],
   "source": [
    "df.groupby(\"Age\").count().sort_values([\"Name\"],ascending=[False]).head()"
   ]
  },
  {
   "cell_type": "code",
   "execution_count": 29,
   "id": "b6faad32",
   "metadata": {},
   "outputs": [
    {
     "data": {
      "text/plain": [
       "<AxesSubplot:ylabel='Age'>"
      ]
     },
     "execution_count": 29,
     "metadata": {},
     "output_type": "execute_result"
    },
    {
     "data": {
      "image/png": "[encoded data removed]",
      "text/plain": [
       "<Figure size 432x288 with 1 Axes>"
      ]
     },
     "metadata": {
      "needs_background": "light"
     },
     "output_type": "display_data"
    }
   ],
   "source": [
    "df_age=df.groupby(\"Age\").count().sort_values([\"Name\"],ascending=[False]).head()\n",
    "df_age[\"Name\"].plot.barh()"
   ]
  },
  {
   "cell_type": "markdown",
   "id": "98bbc4a5",
   "metadata": {},
   "source": [
    "#### 2.Which topic is most trending on media ?"
   ]
  },
  {
   "cell_type": "code",
   "execution_count": 30,
   "id": "1ce01cff",
   "metadata": {},
   "outputs": [
    {
     "data": {
      "text/html": [
       "<div>\n",
       "<style scoped>\n",
       "    .dataframe tbody tr th:only-of-type {\n",
       "        vertical-align: middle;\n",
       "    }\n",
       "\n",
       "    .dataframe tbody tr th {\n",
       "        vertical-align: top;\n",
       "    }\n",
       "\n",
       "    .dataframe thead th {\n",
       "        text-align: right;\n",
       "    }\n",
       "</style>\n",
       "<table border=\"1\" class=\"dataframe\">\n",
       "  <thead>\n",
       "    <tr style=\"text-align: right;\">\n",
       "      <th></th>\n",
       "      <th>Name</th>\n",
       "      <th>Gender</th>\n",
       "      <th>DOB</th>\n",
       "      <th>City</th>\n",
       "      <th>Country</th>\n",
       "      <th>Age</th>\n",
       "    </tr>\n",
       "    <tr>\n",
       "      <th>Interests</th>\n",
       "      <th></th>\n",
       "      <th></th>\n",
       "      <th></th>\n",
       "      <th></th>\n",
       "      <th></th>\n",
       "      <th></th>\n",
       "    </tr>\n",
       "  </thead>\n",
       "  <tbody>\n",
       "    <tr>\n",
       "      <th>['Fashion']</th>\n",
       "      <td>1371</td>\n",
       "      <td>1371</td>\n",
       "      <td>1371</td>\n",
       "      <td>1371</td>\n",
       "      <td>1371</td>\n",
       "      <td>1371</td>\n",
       "    </tr>\n",
       "    <tr>\n",
       "      <th>['Social causes and activism']</th>\n",
       "      <td>729</td>\n",
       "      <td>729</td>\n",
       "      <td>729</td>\n",
       "      <td>729</td>\n",
       "      <td>729</td>\n",
       "      <td>729</td>\n",
       "    </tr>\n",
       "    <tr>\n",
       "      <th>['Business and entrepreneurship']</th>\n",
       "      <td>711</td>\n",
       "      <td>711</td>\n",
       "      <td>711</td>\n",
       "      <td>711</td>\n",
       "      <td>711</td>\n",
       "      <td>711</td>\n",
       "    </tr>\n",
       "    <tr>\n",
       "      <th>['Finance and investments']</th>\n",
       "      <td>707</td>\n",
       "      <td>707</td>\n",
       "      <td>707</td>\n",
       "      <td>707</td>\n",
       "      <td>707</td>\n",
       "      <td>707</td>\n",
       "    </tr>\n",
       "    <tr>\n",
       "      <th>['Education and learning']</th>\n",
       "      <td>706</td>\n",
       "      <td>706</td>\n",
       "      <td>706</td>\n",
       "      <td>706</td>\n",
       "      <td>706</td>\n",
       "      <td>706</td>\n",
       "    </tr>\n",
       "  </tbody>\n",
       "</table>\n",
       "</div>"
      ],
      "text/plain": [
       "                                   Name  Gender   DOB  City  Country   Age\n",
       "Interests                                                                 \n",
       "['Fashion']                        1371    1371  1371  1371     1371  1371\n",
       "['Social causes and activism']      729     729   729   729      729   729\n",
       "['Business and entrepreneurship']   711     711   711   711      711   711\n",
       "['Finance and investments']         707     707   707   707      707   707\n",
       "['Education and learning']          706     706   706   706      706   706"
      ]
     },
     "execution_count": 30,
     "metadata": {},
     "output_type": "execute_result"
    }
   ],
   "source": [
    "df.groupby(\"Interests\").count().sort_values([\"Name\",],ascending=[False]).head()"
   ]
  },
  {
   "cell_type": "code",
   "execution_count": 35,
   "id": "7f0b5167",
   "metadata": {},
   "outputs": [
    {
     "data": {
      "text/plain": [
       "<AxesSubplot:xlabel='Interests'>"
      ]
     },
     "execution_count": 35,
     "metadata": {},
     "output_type": "execute_result"
    },
    {
     "data": {
      "image/png": "[encoded data removed]",
      "text/plain": [
       "<Figure size 432x288 with 1 Axes>"
      ]
     },
     "metadata": {
      "needs_background": "light"
     },
     "output_type": "display_data"
    }
   ],
   "source": [
    "df_int=df.groupby(\"Interests\").count().sort_values([\"Name\"],ascending=[False]).head()\n",
    "df_int[\"Age\"].plot(kind=\"bar\")"
   ]
  },
  {
   "cell_type": "markdown",
   "id": "3bbec28f",
   "metadata": {},
   "source": [
    "#### 3.What is ratio of active members on media gender wise ?"
   ]
  },
  {
   "cell_type": "code",
   "execution_count": 31,
   "id": "d6de248b",
   "metadata": {},
   "outputs": [
    {
     "data": {
      "text/html": [
       "<div>\n",
       "<style scoped>\n",
       "    .dataframe tbody tr th:only-of-type {\n",
       "        vertical-align: middle;\n",
       "    }\n",
       "\n",
       "    .dataframe tbody tr th {\n",
       "        vertical-align: top;\n",
       "    }\n",
       "\n",
       "    .dataframe thead th {\n",
       "        text-align: right;\n",
       "    }\n",
       "</style>\n",
       "<table border=\"1\" class=\"dataframe\">\n",
       "  <thead>\n",
       "    <tr style=\"text-align: right;\">\n",
       "      <th></th>\n",
       "      <th>Age</th>\n",
       "      <th>City</th>\n",
       "      <th>Country</th>\n",
       "      <th>DOB</th>\n",
       "      <th>Gender</th>\n",
       "      <th>Interests</th>\n",
       "      <th>Name</th>\n",
       "    </tr>\n",
       "    <tr>\n",
       "      <th>Gender</th>\n",
       "      <th></th>\n",
       "      <th></th>\n",
       "      <th></th>\n",
       "      <th></th>\n",
       "      <th></th>\n",
       "      <th></th>\n",
       "      <th></th>\n",
       "    </tr>\n",
       "  </thead>\n",
       "  <tbody>\n",
       "    <tr>\n",
       "      <th>Female</th>\n",
       "      <td>49.93</td>\n",
       "      <td>49.93</td>\n",
       "      <td>49.93</td>\n",
       "      <td>49.93</td>\n",
       "      <td>NaN</td>\n",
       "      <td>49.93</td>\n",
       "      <td>49.93</td>\n",
       "    </tr>\n",
       "    <tr>\n",
       "      <th>Male</th>\n",
       "      <td>50.07</td>\n",
       "      <td>50.07</td>\n",
       "      <td>50.07</td>\n",
       "      <td>50.07</td>\n",
       "      <td>NaN</td>\n",
       "      <td>50.07</td>\n",
       "      <td>50.07</td>\n",
       "    </tr>\n",
       "  </tbody>\n",
       "</table>\n",
       "</div>"
      ],
      "text/plain": [
       "          Age   City  Country    DOB  Gender  Interests   Name\n",
       "Gender                                                        \n",
       "Female  49.93  49.93    49.93  49.93     NaN      49.93  49.93\n",
       "Male    50.07  50.07    50.07  50.07     NaN      50.07  50.07"
      ]
     },
     "execution_count": 31,
     "metadata": {},
     "output_type": "execute_result"
    }
   ],
   "source": [
    "round(df.groupby(\"Gender\").count()/df.count()*100,2)"
   ]
  },
  {
   "cell_type": "code",
   "execution_count": 32,
   "id": "f2fa9751",
   "metadata": {},
   "outputs": [
    {
     "data": {
      "text/plain": [
       "<AxesSubplot:ylabel='Age'>"
      ]
     },
     "execution_count": 32,
     "metadata": {},
     "output_type": "execute_result"
    },
    {
     "data": {
      "image/png": "[encoded data removed]",
      "text/plain": [
       "<Figure size 432x288 with 1 Axes>"
      ]
     },
     "metadata": {},
     "output_type": "display_data"
    }
   ],
   "source": [
    "ratio=round(df.groupby(\"Gender\").count()/df.count()*100,2)\n",
    "ratio[\"Age\"].plot(kind=\"pie\")"
   ]
  },
  {
   "cell_type": "markdown",
   "id": "194b159a",
   "metadata": {},
   "source": [
    "#### 4.Which country's pepeole more active on media ?"
   ]
  },
  {
   "cell_type": "code",
   "execution_count": 33,
   "id": "17184c28",
   "metadata": {},
   "outputs": [
    {
     "data": {
      "text/html": [
       "<div>\n",
       "<style scoped>\n",
       "    .dataframe tbody tr th:only-of-type {\n",
       "        vertical-align: middle;\n",
       "    }\n",
       "\n",
       "    .dataframe tbody tr th {\n",
       "        vertical-align: top;\n",
       "    }\n",
       "\n",
       "    .dataframe thead th {\n",
       "        text-align: right;\n",
       "    }\n",
       "</style>\n",
       "<table border=\"1\" class=\"dataframe\">\n",
       "  <thead>\n",
       "    <tr style=\"text-align: right;\">\n",
       "      <th></th>\n",
       "      <th>Name</th>\n",
       "      <th>Gender</th>\n",
       "      <th>DOB</th>\n",
       "      <th>Interests</th>\n",
       "      <th>City</th>\n",
       "      <th>Age</th>\n",
       "    </tr>\n",
       "    <tr>\n",
       "      <th>Country</th>\n",
       "      <th></th>\n",
       "      <th></th>\n",
       "      <th></th>\n",
       "      <th></th>\n",
       "      <th></th>\n",
       "      <th></th>\n",
       "    </tr>\n",
       "  </thead>\n",
       "  <tbody>\n",
       "    <tr>\n",
       "      <th>United States</th>\n",
       "      <td>12311</td>\n",
       "      <td>12311</td>\n",
       "      <td>12311</td>\n",
       "      <td>12311</td>\n",
       "      <td>12311</td>\n",
       "      <td>12311</td>\n",
       "    </tr>\n",
       "    <tr>\n",
       "      <th>India</th>\n",
       "      <td>9399</td>\n",
       "      <td>9399</td>\n",
       "      <td>9399</td>\n",
       "      <td>9399</td>\n",
       "      <td>9399</td>\n",
       "      <td>9399</td>\n",
       "    </tr>\n",
       "    <tr>\n",
       "      <th>China</th>\n",
       "      <td>7381</td>\n",
       "      <td>7381</td>\n",
       "      <td>7381</td>\n",
       "      <td>7381</td>\n",
       "      <td>7381</td>\n",
       "      <td>7381</td>\n",
       "    </tr>\n",
       "    <tr>\n",
       "      <th>Brazil</th>\n",
       "      <td>4643</td>\n",
       "      <td>4643</td>\n",
       "      <td>4643</td>\n",
       "      <td>4643</td>\n",
       "      <td>4643</td>\n",
       "      <td>4643</td>\n",
       "    </tr>\n",
       "    <tr>\n",
       "      <th>Russia</th>\n",
       "      <td>4254</td>\n",
       "      <td>4254</td>\n",
       "      <td>4254</td>\n",
       "      <td>4254</td>\n",
       "      <td>4254</td>\n",
       "      <td>4254</td>\n",
       "    </tr>\n",
       "  </tbody>\n",
       "</table>\n",
       "</div>"
      ],
      "text/plain": [
       "                Name  Gender    DOB  Interests   City    Age\n",
       "Country                                                     \n",
       "United States  12311   12311  12311      12311  12311  12311\n",
       "India           9399    9399   9399       9399   9399   9399\n",
       "China           7381    7381   7381       7381   7381   7381\n",
       "Brazil          4643    4643   4643       4643   4643   4643\n",
       "Russia          4254    4254   4254       4254   4254   4254"
      ]
     },
     "execution_count": 33,
     "metadata": {},
     "output_type": "execute_result"
    }
   ],
   "source": [
    "df.groupby('Country').count().sort_values([\"Age\"],ascending=[False ]).head()"
   ]
  },
  {
   "cell_type": "code",
   "execution_count": 34,
   "id": "8d986690",
   "metadata": {},
   "outputs": [
    {
     "data": {
      "text/plain": [
       "<AxesSubplot:xlabel='Country'>"
      ]
     },
     "execution_count": 34,
     "metadata": {},
     "output_type": "execute_result"
    },
    {
     "data": {
      "image/png": "[encoded data removed]",
      "text/plain": [
       "<Figure size 432x288 with 1 Axes>"
      ]
     },
     "metadata": {
      "needs_background": "light"
     },
     "output_type": "display_data"
    }
   ],
   "source": [
    "df_Country=df.groupby('Country').count().sort_values([\"Age\"],ascending=[False ]).head()\n",
    "df_Country[\"Name\"].plot(kind=\"bar\")"
   ]
  },
  {
   "cell_type": "markdown",
   "id": "7ad248b5",
   "metadata": {},
   "source": [
    "# Conclustion :"
   ]
  },
  {
   "cell_type": "markdown",
   "id": "e8fac718",
   "metadata": {},
   "source": [
    "***This random  data was downloaded  from Kaggle.***\n",
    "***Any recommendations will be incorrect because there are several biases.***\n",
    "***Still, some conclusions based on these statistics are as follows.***\n",
    "\n",
    "***More attentention should be on The US and India users by the corporation as they are the most potential and active users.***\n",
    "\n",
    "***The most popular topics on media  are \"fashion,\" \"social causes and activism,\" \"business and entrepreneurship,\" \"finance and investments,\" and \"education and learning.\" ***\n",
    "\n",
    "***Male user is most active on social media.***\n",
    "\n",
    "***It is advised that corporation concentrate on these popular topics, particularly males and American and Indian users.***\n",
    "\n",
    "***Age group does not fall into any particular age group range. The top 5 age category includes users who are 65 and 24 years old.***"
   ]
  },
  {
   "cell_type": "code",
   "execution_count": null,
   "id": "a9126ddd",
   "metadata": {},
   "outputs": [],
   "source": []
  }
 ],
 "metadata": {
  "kernelspec": {
   "display_name": "Python 3 (ipykernel)",
   "language": "python",
   "name": "python3"
  },
  "language_info": {
   "codemirror_mode": {
    "name": "ipython",
    "version": 3
   },
   "file_extension": ".py",
   "mimetype": "text/x-python",
   "name": "python",
   "nbconvert_exporter": "python",
   "pygments_lexer": "ipython3",
   "version": "3.9.12"
  }
 },
 "nbformat": 4,
 "nbformat_minor": 5
}
